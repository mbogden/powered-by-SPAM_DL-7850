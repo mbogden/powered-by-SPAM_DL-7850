{
 "cells": [
  {
   "cell_type": "code",
   "execution_count": 1,
   "id": "e03f068d-45f2-4a68-bce4-2edc564259fe",
   "metadata": {},
   "outputs": [
    {
     "name": "stdout",
     "output_type": "stream",
     "text": [
      "Modules: Imported\n"
     ]
    }
   ],
   "source": [
    "# Import Python Mobules\n",
    "import os, json, time, argparse\n",
    "import numpy as np\n",
    "from sys import argv\n",
    "import tensorflow as tf\n",
    "import tensorflow.keras as keras\n",
    "\n",
    "# Reduce warnings\n",
    "os.environ['TF_CPP_MIN_LOG_LEVEL'] = '2'\n",
    "\n",
    "# Basic information\n",
    "print(\"Modules: Imported\")"
   ]
  },
  {
   "cell_type": "code",
   "execution_count": 2,
   "id": "926e6482-eb54-4425-aab2-90add1cdd29f",
   "metadata": {},
   "outputs": [
    {
     "name": "stdout",
     "output_type": "stream",
     "text": [
      "Args: Initialized\n"
     ]
    }
   ],
   "source": [
    "# Command line arguments\n",
    "\n",
    "buildEnv = False\n",
    "\n",
    "parser = argparse.ArgumentParser()\n",
    "parser.add_argument( '-runName', )\n",
    "parser.add_argument( '-modelLoc', )\n",
    "parser.add_argument( \"-tid\", default = '587722984435351614',  type=str )\n",
    "parser.add_argument( \"-start\",   default = 0,    type=int, )\n",
    "parser.add_argument( \"-stop\",    default = 3,  type=int, )\n",
    "parser.add_argument( \"-verbose\", default = 0,    type=int, )\n",
    "parser.add_argument( \"-num_epochs\",    default=2,   type=int )\n",
    "parser.add_argument( \"-learning_rate\", default=0.01, type=float )\n",
    "parser.add_argument( \"-batch_size\",    default=16,  type=int )\n",
    "parser.add_argument( \"-save_model\",    default=True,  type=bool )\n",
    "\n",
    "# Core Model types\n",
    "parser.add_argument( \"-model\", default = 'efficientNetB1', )\n",
    "parser.add_argument( \"-pool\",   default = None )\n",
    "parser.add_argument( \"-weights\", default = 'imagenet',  type=str )\n",
    "\n",
    "# Final layers\n",
    "parser.add_argument( \"-f_depth\", default = 3,  type=int )\n",
    "parser.add_argument( \"-f_width\", default = 32, type=int )\n",
    "parser.add_argument( \"-f_activation\", default = 'tanh', type=str )\n",
    "parser.add_argument( \"-output_activation\", default = None )\n",
    "\n",
    "print(\"Args: Initialized\")"
   ]
  },
  {
   "cell_type": "code",
   "execution_count": 16,
   "id": "bca70a14-2865-4c72-888e-41dd5cdc5291",
   "metadata": {},
   "outputs": [
    {
     "name": "stdout",
     "output_type": "stream",
     "text": [
      "In Notebook\n",
      "Args: Read\n"
     ]
    }
   ],
   "source": [
    "\n",
    "# Am I in a jupyter notebook?\n",
    "try:\n",
    "    get_ipython().__class__.__name__\n",
    "    buildEnv = True\n",
    "    print(\"In Notebook\")\n",
    "    \n",
    "    cmdStr = ''\n",
    "    cmdStr += ' -runName test-efficient'\n",
    "    cmdStr += ' -start 1'\n",
    "    cmdStr += ' -stop 20'\n",
    "    cmdStr += ' -num_epochs 20'\n",
    "    cmdStr += ' -learning_rate 0.00001'\n",
    "    cmdStr += ' -pool None'\n",
    "    cmdStr += ' -verbose 1'\n",
    "    cmdStr += ' -save_model False'\n",
    "    cmdStr += ' -f_depth 3'\n",
    "    cmdStr += ' -f_width 32'\n",
    "    cmdStr += ' -f_activation tanh'\n",
    "    # cmdStr += ' -output_activation softmax'\n",
    "    \n",
    "    # Read string as if command line\n",
    "    args = parser.parse_args(cmdStr.split())\n",
    "\n",
    "\n",
    "# Or am I in a python script?\n",
    "except:\n",
    "    args = parser.parse_args()\n",
    "    \n",
    "    # Check for valid runName\n",
    "    print( 'runName: ', args.runName )\n",
    "    if args.runName == None:\n",
    "        print(\"WARNING:  runName required\")\n",
    "        exit()\n",
    "    \n",
    "    runName = args.runName\n",
    "\n",
    "if buildEnv: \n",
    "    import matplotlib.pyplot as plt\n",
    "\n",
    "print(\"Args: Read\")"
   ]
  },
  {
   "cell_type": "code",
   "execution_count": 4,
   "id": "6134c9cc-fe0f-4a7e-bd6c-e42e73dbcbb2",
   "metadata": {},
   "outputs": [
    {
     "name": "stdout",
     "output_type": "stream",
     "text": [
      "Devices: [PhysicalDevice(name='/physical_device:CPU:0', device_type='CPU'), PhysicalDevice(name='/physical_device:GPU:0', device_type='GPU'), PhysicalDevice(name='/physical_device:GPU:1', device_type='GPU')]\n"
     ]
    }
   ],
   "source": [
    "\n",
    "# Read current devices\n",
    "devices = tf.config.get_visible_devices()\n",
    "\n",
    "# If no GPU found, use CPU\n",
    "if len(devices) == 1:\n",
    "    strategy = tf.distribute.OneDeviceStrategy('CPU') # Use local GPU\n",
    "\n",
    "# if buildEnv, probably on hamilton. Use GPU 2\n",
    "elif buildEnv:\n",
    "    tf.config.set_visible_devices(devices[0:1]+devices[2:3])\n",
    "    tf.config.experimental.set_memory_growth(devices[1],True)\n",
    "    strategy = tf.distribute.OneDeviceStrategy('GPU:1') # Use local GPU\n",
    "\n",
    "# Standard single GPU on backus\n",
    "else:\n",
    "    tf.config.experimental.set_memory_growth(devices[1],True)\n",
    "    strategy = tf.distribute.OneDeviceStrategy('GPU:1') # Use local GPU\n",
    "if buildEnv:    print( 'Devices:', devices )\n"
   ]
  },
  {
   "cell_type": "code",
   "execution_count": 5,
   "id": "ddf59746-bfa6-4210-9823-57c8d944bb08",
   "metadata": {},
   "outputs": [
    {
     "name": "stdout",
     "output_type": "stream",
     "text": [
      "dict_keys(['score', 'model', 'min', 'rid', 'tid', 'targets', 'images'])\n"
     ]
    }
   ],
   "source": [
    "def sliceKey( dictIn ):\n",
    "    dictOut =  dictIn\n",
    "    for k in dictOut:\n",
    "        if type( dictOut[k] ) == type( 'string' ):\n",
    "            if 'slice' in dictOut[k]:\n",
    "                #print( k, dictOut[k] )\n",
    "                tmp = dictOut[k].split('(')[1].split(')')[0].split(',')\n",
    "                s = int( tmp[0] )\n",
    "                e = int( tmp[1] )\n",
    "                dictOut[k] = slice( s, e )\n",
    "                #print( dictOut[k] )\n",
    "    \n",
    "    return dictOut \n",
    "\n",
    "\n",
    "with strategy.scope():\n",
    "    \n",
    "    # Prepare data\n",
    "    with open( 'data/data-key.json' ) as keyFile:\n",
    "        key = json.load( keyFile )\n",
    "    \n",
    "    key = sliceKey( key )\n",
    "    \n",
    "    print( key.keys() )"
   ]
  },
  {
   "cell_type": "code",
   "execution_count": 20,
   "id": "2634ae21-c64a-4efe-9632-84879b0af6d9",
   "metadata": {},
   "outputs": [
    {
     "name": "stdout",
     "output_type": "stream",
     "text": [
      "Reading Data for: 587722984435351614\n",
      "data:  (315, 25)\n",
      "img:   (315, 128, 128, 3) 0.0 255.0\n",
      "test:   (63, 25)\n",
      "train:  (252, 25)\n",
      "testScore: (63, 1) 0.02857142857142857 0.9459459459459459\n",
      "trainScore: (252, 1)\n"
     ]
    }
   ],
   "source": [
    "\n",
    "def loadData( args ):\n",
    "    \n",
    "    # Prepare data\n",
    "    with open( 'data/data-key.json' ) as keyFile:\n",
    "        key = json.load( keyFile )\n",
    "    \n",
    "    print(\"Reading Data for: %s\" % args.tid )\n",
    "        \n",
    "    data = np.load('data/norm-targets/data-%s.npy' % args.tid)\n",
    "    img = np.load( 'data/raw/img-%s.npy' % args.tid )\n",
    "    \n",
    "    # Rescale image values based on core model being used.\n",
    "    if 'efficientNet' in args.model :\n",
    "        img *= 255\n",
    "\n",
    "    if buildEnv:\n",
    "        print( 'data: ', data.shape )\n",
    "        print( 'img:  ', img.shape, np.amin(img), np.amax(img) )\n",
    "        \n",
    "        \n",
    "    \n",
    "    # Reserve every 5th for training\n",
    "    n = data.shape[0]\n",
    "    m = np.full( n, False )\n",
    "    m[::5] = True\n",
    "    \n",
    "    # Seperate training from testing\n",
    "    testData = data[m] \n",
    "    testImg  = img[m]\n",
    "    \n",
    "    trainData = data[~m]\n",
    "    trainImg = img[~m]\n",
    "    \n",
    "    # Shuffle training data\n",
    "    \n",
    "    p = np.random.permutation( trainData.shape[0] )\n",
    "    trainData = trainData[p]\n",
    "    trainImg = trainImg[p]\n",
    "    \n",
    "    if buildEnv:\n",
    "        print( \"test:  \", testData.shape )\n",
    "        print( \"train: \", trainData.shape )\n",
    "    \n",
    "    # Only grab scores for prediction    \n",
    "    trainScore = trainData[:,key['score']]\n",
    "    testScore  =  testData[:,key['score']]\n",
    "    \n",
    "    # Reshape scores\n",
    "    testScore  = np.reshape( testScore,  (  testScore.shape[0], 1 ) )\n",
    "    trainScore = np.reshape( trainScore, ( trainScore.shape[0], 1 ) )\n",
    "    \n",
    "    # print scores shape\n",
    "    \n",
    "    if buildEnv:\n",
    "        print('testScore:', testScore.shape, np.amin( testScore ), np.amax(testScore) )\n",
    "        print(\"trainScore:\", trainScore.shape )\n",
    "    \n",
    "    # Set standardized name\n",
    "    \n",
    "    return trainImg, trainScore, testImg, testScore\n",
    "    \n",
    "with strategy.scope():\n",
    "    X, Y, testImg, testScore = loadData( args )"
   ]
  },
  {
   "cell_type": "code",
   "execution_count": 7,
   "id": "a27ceb41-c464-4d38-a98e-3c56009e9df9",
   "metadata": {},
   "outputs": [],
   "source": [
    "def correlation(y_true, y_pred):\n",
    "    y = y_pred.numpy()\n",
    "    corr = np.corrcoef( y_true[:,0], y[:,0] )[0,1]\n",
    "    return corr\n"
   ]
  },
  {
   "cell_type": "code",
   "execution_count": 22,
   "id": "1b70c601-ffe6-4238-bd92-34a5ccd7b8a6",
   "metadata": {},
   "outputs": [
    {
     "name": "stdout",
     "output_type": "stream",
     "text": [
      "Model: \"model_2\"\n",
      "_________________________________________________________________\n",
      " Layer (type)                Output Shape              Param #   \n",
      "=================================================================\n",
      " input_5 (InputLayer)        [(None, 128, 128, 3)]     0         \n",
      "                                                                 \n",
      " efficientnetb1 (Functional)  (None, 4, 4, 1280)       6575239   \n",
      "                                                                 \n",
      " flatten_2 (Flatten)         (None, 20480)             0         \n",
      "                                                                 \n",
      " act_tanh_0 (Dense)          (None, 32)                655392    \n",
      "                                                                 \n",
      " act_tanh_1 (Dense)          (None, 32)                1056      \n",
      "                                                                 \n",
      " act_tanh_2 (Dense)          (None, 32)                1056      \n",
      "                                                                 \n",
      " output_linear (Dense)       (None, 1)                 33        \n",
      "                                                                 \n",
      "=================================================================\n",
      "Total params: 7,232,776\n",
      "Trainable params: 7,170,721\n",
      "Non-trainable params: 62,055\n",
      "_________________________________________________________________\n"
     ]
    },
    {
     "data": {
      "image/png": "[encoded data removed]",
      "text/plain": [
       "<IPython.core.display.Image object>"
      ]
     },
     "execution_count": 22,
     "metadata": {},
     "output_type": "execute_result"
    }
   ],
   "source": [
    "   \n",
    "\n",
    "def buildModel( args, X, Y ):\n",
    "    \n",
    "    # Build input layer\n",
    "    x = keras.layers.Input(shape=X.shape[1:])\n",
    "    y = x    \n",
    "    \n",
    "    # What type of model\n",
    "    \n",
    "    if 'efficientNet' in args.model:\n",
    "    \n",
    "        if   args.model == 'efficientNetB0':  core_model = tf.keras.applications.EfficientNetB0\n",
    "        elif args.model == 'efficientNetB1':  core_model = tf.keras.applications.EfficientNetB1\n",
    "        elif args.model == 'efficientNetB2':  core_model = tf.keras.applications.EfficientNetB2\n",
    "        elif args.model == 'efficientNetB3':  core_model = tf.keras.applications.EfficientNetB3\n",
    "        elif args.model == 'efficientNetB4':  core_model = tf.keras.applications.EfficientNetB4\n",
    "        elif args.model == 'efficientNetB5':  core_model = tf.keras.applications.EfficientNetB5\n",
    "        elif args.model == 'efficientNetB6':  core_model = tf.keras.applications.EfficientNetB6\n",
    "        elif args.model == 'efficientNetB7':  core_model = tf.keras.applications.EfficientNetB7\n",
    "            \n",
    "        core_model =  core_model(\n",
    "                include_top=False,\n",
    "                weights=args.weights,\n",
    "                input_shape=y.shape[1:],\n",
    "                pooling=args.pool,\n",
    "            )\n",
    "    \n",
    "    elif args.model == 'resnet':\n",
    "        # Build resnet layer without top layer\n",
    "        core_model = keras.applications.ResNet50V2(\n",
    "            include_top = False,\n",
    "            weights = args.weights,\n",
    "            input_shape = y.shape[1:], \n",
    "        )\n",
    "    else:\n",
    "        print(\"NO MODEL TYPE SELECTED\")\n",
    "        return None\n",
    "    \n",
    "    # Add core model\n",
    "    y = core_model(y)\n",
    "    \n",
    "    # Flatten for final layers\n",
    "    y = keras.layers.Flatten()(y)\n",
    "    \n",
    "    for i in range( args.f_depth ):\n",
    "        \n",
    "        if args.f_activation == None:\n",
    "            y = keras.layers.Dense( args.f_width, activation= keras.activations.relu, name='act_relu_%d'%i )(y)\n",
    "            \n",
    "        if args.f_activation == 'relu':\n",
    "            y = keras.layers.Dense( args.f_width, activation= keras.activations.relu, name='act_relu_%d'%i )(y)\n",
    "            \n",
    "        if args.f_activation == 'tanh':\n",
    "            y = keras.layers.Dense( args.f_width, activation= keras.activations.tanh, name='act_tanh_%d'%i )(y)\n",
    "    \n",
    "    # Final layer.\n",
    "    if args.output_activation == None:\n",
    "        y = keras.layers.Dense( Y.shape[1], name='output_linear' )(y)\n",
    "        \n",
    "    elif args.output_activation == 'softmax':\n",
    "        y = keras.layers.Dense( Y.shape[1] , activation='softmax', name='output_softmax' )(y)\n",
    "        \n",
    "    elif args.output_activation == 'sigmoid':\n",
    "        y = keras.layers.Dense( Y.shape[1] , activation='sigmoid', name='output_sigmoid' )(y)\n",
    "\n",
    "\n",
    "    # Compile\n",
    "    model = keras.Model( x, y )\n",
    "    model.compile( \n",
    "        optimizer=keras.optimizers.Adam(learning_rate= args.learning_rate ),\n",
    "        loss=keras.losses.mean_squared_error,\n",
    "        )\n",
    "    \n",
    "    return model\n",
    "# end building model\n",
    "    \n",
    "with strategy.scope(): \n",
    "\n",
    "    # If not reading previous model, make fresh model\n",
    "    if args.modelLoc == None:\n",
    "        model = buildModel( args, trainImg, trainScore )\n",
    "    \n",
    "    model.summary(expand_nested=False)\n",
    "    \n",
    "keras.utils.plot_model(model,show_shapes=True,expand_nested=False)\n",
    "\n",
    "    "
   ]
  },
  {
   "cell_type": "code",
   "execution_count": 9,
   "id": "0c60d75a-782d-49fe-89ab-8da7fc28e4ef",
   "metadata": {
    "tags": []
   },
   "outputs": [
    {
     "name": "stdout",
     "output_type": "stream",
     "text": [
      "Prediction 2:  [[-1.26791   ]\n",
      " [-1.0475323 ]\n",
      " [-0.9360438 ]\n",
      " [-0.83525324]\n",
      " [-0.85395545]\n",
      " [-1.1047075 ]\n",
      " [-1.1485577 ]\n",
      " [-0.92465925]\n",
      " [-1.0555538 ]\n",
      " [-0.7239177 ]]\n"
     ]
    }
   ],
   "source": [
    "with strategy.scope(): \n",
    "        \n",
    "    # Quick prediction to test functionality\n",
    "    if buildEnv: \n",
    "        print(\"Prediction 2: \", model.predict( testImg[:10] ))"
   ]
  },
  {
   "cell_type": "code",
   "execution_count": 10,
   "id": "6d2935e3-e619-4814-81ff-6128b6ebb89f",
   "metadata": {
    "tags": []
   },
   "outputs": [
    {
     "name": "stdout",
     "output_type": "stream",
     "text": [
      "Ready to Train:\n",
      "runName: test-efficient\n",
      "start: 1\n",
      "goal: 20\n",
      "Epoch 1/20\n",
      "16/16 [==============================] - 13s 346ms/step - loss: 0.2502 - val_loss: 0.8934\n",
      "Epoch 2/20\n",
      "16/16 [==============================] - 1s 69ms/step - loss: 0.1471 - val_loss: 0.3190\n",
      "Epoch 3/20\n",
      "16/16 [==============================] - 1s 70ms/step - loss: 0.1069 - val_loss: 0.0845\n",
      "Epoch 4/20\n",
      "16/16 [==============================] - 1s 67ms/step - loss: 0.0818 - val_loss: 0.0964\n",
      "Epoch 5/20\n",
      "16/16 [==============================] - 1s 64ms/step - loss: 0.0660 - val_loss: 0.1235\n",
      "Epoch 6/20\n",
      "16/16 [==============================] - 1s 66ms/step - loss: 0.0498 - val_loss: 0.1209\n",
      "Epoch 7/20\n",
      "16/16 [==============================] - 1s 68ms/step - loss: 0.0519 - val_loss: 0.1094\n",
      "Epoch 8/20\n",
      "16/16 [==============================] - 1s 67ms/step - loss: 0.0416 - val_loss: 0.0972\n",
      "Epoch 9/20\n",
      "16/16 [==============================] - 1s 64ms/step - loss: 0.0446 - val_loss: 0.1220\n",
      "Epoch 10/20\n",
      "16/16 [==============================] - 1s 67ms/step - loss: 0.0393 - val_loss: 0.1005\n",
      "Epoch 11/20\n",
      "16/16 [==============================] - 1s 67ms/step - loss: 0.0345 - val_loss: 0.1048\n",
      "Epoch 12/20\n",
      "16/16 [==============================] - 1s 67ms/step - loss: 0.0361 - val_loss: 0.0980\n",
      "Epoch 13/20\n",
      "16/16 [==============================] - 1s 72ms/step - loss: 0.0372 - val_loss: 0.0933\n",
      "Epoch 14/20\n",
      "16/16 [==============================] - 1s 70ms/step - loss: 0.0348 - val_loss: 0.0894\n",
      "Epoch 15/20\n",
      "16/16 [==============================] - 1s 69ms/step - loss: 0.0362 - val_loss: 0.0840\n",
      "Epoch 16/20\n",
      "16/16 [==============================] - 1s 63ms/step - loss: 0.0375 - val_loss: 0.0785\n",
      "Epoch 17/20\n",
      "16/16 [==============================] - 1s 67ms/step - loss: 0.0345 - val_loss: 0.0713\n",
      "Epoch 18/20\n",
      "16/16 [==============================] - 1s 64ms/step - loss: 0.0328 - val_loss: 0.0680\n",
      "Epoch 19/20\n",
      "16/16 [==============================] - 1s 67ms/step - loss: 0.0300 - val_loss: 0.0619\n",
      "Epoch 20/20\n",
      "16/16 [==============================] - 1s 67ms/step - loss: 0.0340 - val_loss: 0.0629\n",
      "Progress: 21 - 20\n"
     ]
    }
   ],
   "source": [
    "with strategy.scope():\n",
    "        \n",
    "    data_generator = keras.preprocessing.image.ImageDataGenerator(\n",
    "        rotation_range=180,\n",
    "        zoom_range=0.1,\n",
    "        horizontal_flip=True,\n",
    "    )\n",
    "\n",
    "    dg_trainer = data_generator.flow( \n",
    "        X, Y, \n",
    "        batch_size = args.batch_size\n",
    "    )\n",
    "    \n",
    "    print( 'Ready to Train:' )\n",
    "    print( 'runName: %s' % args.runName )\n",
    "    print( 'start: %d' % args.start )\n",
    "    print( 'goal: %d' % args.stop )\n",
    "    \n",
    "    with open( 'results/%s.txt' % args.runName, 'a' ) as f: \n",
    "        \n",
    "        print( 'runName: %s' % args.runName, file=f )\n",
    "        print( 'start: %d' % args.start, file=f )\n",
    "        print( 'goal: %d' % args.stop, file=f )\n",
    "    \n",
    "    # Initialize iter\n",
    "    i = args.start   \n",
    "    \n",
    "    while i < args.stop:\n",
    "\n",
    "        history = model.fit(\n",
    "           dg_trainer,\n",
    "#             X, Y,\n",
    "            validation_data = ( Xval, Yval ),\n",
    "            epochs     = args.num_epochs,\n",
    "            verbose    = args.verbose,\n",
    "        )\n",
    "\n",
    "        i += args.num_epochs\n",
    "        timeid = int( time.time() )\n",
    "        \n",
    "        print( 'Progress: %d - %d' % ( i, args.stop ) )\n",
    "        \n",
    "        if args.save_model: \n",
    "            model.save( 'models/%s-%s-%s.h5' % (args.runName, str(timeid), str(i)), save_format='h5' )\n",
    "\n",
    "        with open( 'results/%s.txt' % args.runName, 'a' ) as f: \n",
    "\n",
    "            print( 'Progress: %d - %d' % ( i, timeid ), file=f )\n",
    "            print( \"Validation accuracy:\",*[\"%.8f\"%(x) for x in history.history['loss']], file=f)    \n",
    "            print( \"Test accuracy:\",*[\"%.8f\"%(x) for x in history.history['val_loss']],file=f)\n"
   ]
  },
  {
   "cell_type": "code",
   "execution_count": 19,
   "id": "63cf4d87-25aa-4e7c-ac87-ed5aea23aec7",
   "metadata": {},
   "outputs": [
    {
     "data": {
      "image/png": "[encoded data removed]",
      "text/plain": [
       "<Figure size 432x288 with 1 Axes>"
      ]
     },
     "metadata": {
      "needs_background": "light"
     },
     "output_type": "display_data"
    }
   ],
   "source": [
    "pTestScores = model.predict( testImg )\n",
    "pTrainScores = model.predict( trainImg )\n",
    "\n",
    "\n",
    "if buildEnv: \n",
    "    plt.scatter( testScore, pTestScores, label='test' )\n",
    "    plt.scatter( trainScore, pTrainScores, label='train' ) \n",
    "    \n",
    "    plt.xlabel('Human Score')\n",
    "    plt.ylabel('Predictons')\n",
    "    plt.legend()\n",
    "\n"
   ]
  },
  {
   "cell_type": "code",
   "execution_count": 17,
   "id": "bbaf0c5b-62d0-459b-81ee-8cd93444b901",
   "metadata": {},
   "outputs": [
    {
     "name": "stdout",
     "output_type": "stream",
     "text": [
      "dict_keys(['loss', 'val_loss'])\n"
     ]
    },
    {
     "data": {
      "image/png": "[encoded data removed]",
      "text/plain": [
       "<Figure size 432x288 with 1 Axes>"
      ]
     },
     "metadata": {
      "needs_background": "light"
     },
     "output_type": "display_data"
    }
   ],
   "source": [
    "if buildEnv: \n",
    "    print( history.history.keys() )\n",
    "    plt.plot(history.history['loss'])\n",
    "    plt.plot(history.history['val_loss'])\n",
    "    plt.legend(['Training','Validation'])\n",
    "    plt.xlabel('Epoch')\n",
    "    plt.ylabel('CCE Loss')\n",
    "    #plt.ylim([0,1])\n",
    "    plt.show()\n"
   ]
  },
  {
   "cell_type": "code",
   "execution_count": 18,
   "id": "48456684-dade-45db-ae50-fcb994341636",
   "metadata": {},
   "outputs": [
    {
     "name": "stdout",
     "output_type": "stream",
     "text": [
      "Changing Learning Rate:  1e-05\n",
      "Epoch 1/20\n",
      "16/16 [==============================] - 1s 66ms/step - loss: 0.0306 - val_loss: 0.0631\n",
      "Epoch 2/20\n",
      "16/16 [==============================] - 1s 70ms/step - loss: 0.0309 - val_loss: 0.0646\n",
      "Epoch 3/20\n",
      "16/16 [==============================] - 1s 65ms/step - loss: 0.0313 - val_loss: 0.0675\n",
      "Epoch 4/20\n",
      "16/16 [==============================] - 1s 67ms/step - loss: 0.0329 - val_loss: 0.0678\n",
      "Epoch 5/20\n",
      "16/16 [==============================] - 1s 68ms/step - loss: 0.0314 - val_loss: 0.0683\n",
      "Epoch 6/20\n",
      "16/16 [==============================] - 1s 65ms/step - loss: 0.0330 - val_loss: 0.0658\n",
      "Epoch 7/20\n",
      "16/16 [==============================] - 1s 68ms/step - loss: 0.0300 - val_loss: 0.0589\n",
      "Epoch 8/20\n",
      "16/16 [==============================] - 1s 68ms/step - loss: 0.0320 - val_loss: 0.0522\n",
      "Epoch 9/20\n",
      "16/16 [==============================] - 1s 70ms/step - loss: 0.0287 - val_loss: 0.0488\n",
      "Epoch 10/20\n",
      "16/16 [==============================] - 1s 67ms/step - loss: 0.0332 - val_loss: 0.0467\n",
      "Epoch 11/20\n",
      "16/16 [==============================] - 1s 68ms/step - loss: 0.0380 - val_loss: 0.0443\n",
      "Epoch 12/20\n",
      "16/16 [==============================] - 1s 68ms/step - loss: 0.0322 - val_loss: 0.0427\n",
      "Epoch 13/20\n",
      "16/16 [==============================] - 1s 64ms/step - loss: 0.0309 - val_loss: 0.0404\n",
      "Epoch 14/20\n",
      "16/16 [==============================] - 1s 65ms/step - loss: 0.0300 - val_loss: 0.0387\n",
      "Epoch 15/20\n",
      "16/16 [==============================] - 1s 67ms/step - loss: 0.0297 - val_loss: 0.0376\n",
      "Epoch 16/20\n",
      "16/16 [==============================] - 1s 68ms/step - loss: 0.0283 - val_loss: 0.0371\n",
      "Epoch 17/20\n",
      "16/16 [==============================] - 1s 66ms/step - loss: 0.0309 - val_loss: 0.0375\n",
      "Epoch 18/20\n",
      "16/16 [==============================] - 1s 68ms/step - loss: 0.0337 - val_loss: 0.0374\n",
      "Epoch 19/20\n",
      "16/16 [==============================] - 1s 66ms/step - loss: 0.0319 - val_loss: 0.0386\n",
      "Epoch 20/20\n",
      "16/16 [==============================] - 1s 65ms/step - loss: 0.0321 - val_loss: 0.0387\n"
     ]
    }
   ],
   "source": [
    "with strategy.scope():     \n",
    "    \n",
    "    print(\"Changing Learning Rate: \", args.learning_rate )\n",
    "    keras.backend.set_value( \n",
    "        model.optimizer.learning_rate, \n",
    "        float( args.learning_rate ) \n",
    "    )\n",
    "    \n",
    "    history = model.fit(\n",
    "       dg_trainer,\n",
    "#             X, Y,\n",
    "        validation_data = ( Xval, Yval ),\n",
    "        epochs     = args.num_epochs,\n",
    "        verbose    = args.verbose,\n",
    "    )"
   ]
  },
  {
   "cell_type": "code",
   "execution_count": null,
   "id": "46f65831-782d-4cdd-9896-f88dfe46c01e",
   "metadata": {},
   "outputs": [],
   "source": []
  },
  {
   "cell_type": "code",
   "execution_count": null,
   "id": "3d0100ab-c680-4c01-8027-1179465aea25",
   "metadata": {},
   "outputs": [],
   "source": []
  }
 ],
 "metadata": {
  "kernelspec": {
   "display_name": "Python 3 (ipykernel)",
   "language": "python",
   "name": "python3"
  },
  "language_info": {
   "codemirror_mode": {
    "name": "ipython",
    "version": 3
   },
   "file_extension": ".py",
   "mimetype": "text/x-python",
   "name": "python",
   "nbconvert_exporter": "python",
   "pygments_lexer": "ipython3",
   "version": "3.10.5"
  }
 },
 "nbformat": 4,
 "nbformat_minor": 5
}
