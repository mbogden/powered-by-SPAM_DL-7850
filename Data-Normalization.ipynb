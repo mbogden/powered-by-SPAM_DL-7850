{
 "cells": [
  {
   "cell_type": "code",
   "execution_count": 4,
   "id": "5d3021de-37fd-4c15-9ede-b376780e7b5a",
   "metadata": {},
   "outputs": [
    {
     "name": "stdout",
     "output_type": "stream",
     "text": [
      "done 2\n"
     ]
    }
   ],
   "source": [
    "import os, json\n",
    "from copy import deepcopy\n",
    "import numpy as np\n",
    "import pickle as pkl\n",
    "import matplotlib.pyplot as plt\n",
    "from sklearn.preprocessing import StandardScaler\n",
    "\n",
    "from pprint import pprint\n",
    "print(\"done 2\")"
   ]
  },
  {
   "cell_type": "code",
   "execution_count": 1,
   "id": "9ad46b4a-caf9-4e7e-ba65-9f279e257560",
   "metadata": {
    "tags": []
   },
   "outputs": [
    {
     "ename": "NameError",
     "evalue": "name 'json' is not defined",
     "output_type": "error",
     "traceback": [
      "\u001b[0;31m---------------------------------------------------------------------------\u001b[0m",
      "\u001b[0;31mNameError\u001b[0m                                 Traceback (most recent call last)",
      "Input \u001b[0;32mIn [1]\u001b[0m, in \u001b[0;36m<cell line: 30>\u001b[0;34m()\u001b[0m\n\u001b[1;32m     28\u001b[0m \u001b[38;5;66;03m#print( os.listdir( dataDir ) )\u001b[39;00m\n\u001b[1;32m     30\u001b[0m \u001b[38;5;28;01mwith\u001b[39;00m \u001b[38;5;28mopen\u001b[39m( dataDir \u001b[38;5;241m+\u001b[39m \u001b[38;5;124m'\u001b[39m\u001b[38;5;124mdata-key.json\u001b[39m\u001b[38;5;124m'\u001b[39m ) \u001b[38;5;28;01mas\u001b[39;00m keyFile:\n\u001b[0;32m---> 31\u001b[0m     key \u001b[38;5;241m=\u001b[39m \u001b[43mjson\u001b[49m\u001b[38;5;241m.\u001b[39mload( keyFile )\n\u001b[1;32m     33\u001b[0m \u001b[38;5;28;01mdef\u001b[39;00m \u001b[38;5;21mconvertSlice\u001b[39m( dictIn ):\n\u001b[1;32m     34\u001b[0m     dictOut \u001b[38;5;241m=\u001b[39m deepcopy( dictIn )\n",
      "\u001b[0;31mNameError\u001b[0m: name 'json' is not defined"
     ]
    }
   ],
   "source": [
    "dataDir = 'data/'\n",
    "\n",
    "testTargets = [\n",
    "    '587739407868690486',\n",
    "    '587727178988388373',\n",
    "]\n",
    "\n",
    "trainTargets = [\n",
    "    '1237678620102623480',\n",
    "    '587722984435351614',\n",
    "    '587732136993882121',\n",
    "    '587732772130652231',\n",
    "    '587734862680752822',\n",
    "    '587735043609329845',\n",
    "    '587738569246376675',\n",
    "    '587741391565422775',\n",
    "    '587742014353702970',\n",
    "    '587745402001817662',\n",
    "    '588013383816904792',\n",
    "    '588017978901528612',\n",
    "    '588018055130710322',\n",
    "    '758877153600208945',\n",
    "    'hst_Arp_273',\n",
    "    'hst_ESO_77-14',\n",
    "    'hst_NGC_6786',\n",
    "]\n",
    "\n",
    "#print( os.listdir( dataDir ) )\n",
    "\n",
    "with open( dataDir + 'data-key.json' ) as keyFile:\n",
    "    key = json.load( keyFile )\n",
    "\n",
    "def convertSlice( dictIn ):\n",
    "    dictOut = deepcopy( dictIn )\n",
    "    for k in dictOut:\n",
    "        if type( dictOut[k] ) == type( 'string' ):\n",
    "            if 'slice' in dictOut[k]:\n",
    "                #print( k, dictOut[k] )\n",
    "                tmp = dictOut[k].split('(')[1].split(')')[0].split(',')\n",
    "                s = int( tmp[0] )\n",
    "                e = int( tmp[1] )\n",
    "                dictOut[k] = slice( s, e )\n",
    "                print( dictOut[k] )\n",
    "    \n",
    "    return dictOut \n",
    "\n",
    "key = convertSlice( key )\n",
    "print('')\n",
    "pprint( key )\n"
   ]
  },
  {
   "cell_type": "code",
   "execution_count": 4,
   "id": "61cd9bc4-cc06-43d0-abd3-7fbd3b9a2ce8",
   "metadata": {
    "tags": []
   },
   "outputs": [
    {
     "ename": "NameError",
     "evalue": "name 'dataKey' is not defined",
     "output_type": "error",
     "traceback": [
      "\u001b[0;31m---------------------------------------------------------------------------\u001b[0m",
      "\u001b[0;31mNameError\u001b[0m                                 Traceback (most recent call last)",
      "Input \u001b[0;32mIn [4]\u001b[0m, in \u001b[0;36m<cell line: 5>\u001b[0;34m()\u001b[0m\n\u001b[1;32m      2\u001b[0m rawDir  \u001b[38;5;241m=\u001b[39m \u001b[38;5;124m'\u001b[39m\u001b[38;5;124mdata/raw/\u001b[39m\u001b[38;5;124m'\u001b[39m\n\u001b[1;32m      3\u001b[0m normDir \u001b[38;5;241m=\u001b[39m \u001b[38;5;124m'\u001b[39m\u001b[38;5;124mdata/norm-targets/\u001b[39m\u001b[38;5;124m'\u001b[39m\n\u001b[0;32m----> 5\u001b[0m \u001b[38;5;28;01mfor\u001b[39;00m i \u001b[38;5;129;01min\u001b[39;00m \u001b[43mdataKey\u001b[49m[\u001b[38;5;124m'\u001b[39m\u001b[38;5;124mtargets\u001b[39m\u001b[38;5;124m'\u001b[39m]:\n\u001b[1;32m      7\u001b[0m     t \u001b[38;5;241m=\u001b[39m key[\u001b[38;5;124m'\u001b[39m\u001b[38;5;124mtargets\u001b[39m\u001b[38;5;124m'\u001b[39m][i]\n\u001b[1;32m      9\u001b[0m     \u001b[38;5;28mprint\u001b[39m( i, t )\n",
      "\u001b[0;31mNameError\u001b[0m: name 'dataKey' is not defined"
     ]
    }
   ],
   "source": [
    "# Scale data of individual targets\n",
    "rawDir  = 'data/raw/'\n",
    "normDir = 'data/norm-targets/'\n",
    "\n",
    "for i in key['targets']:\n",
    "    \n",
    "    t = key['targets'][i]\n",
    "    \n",
    "    print( i, t )\n",
    "    \n",
    "    data = np.load( rawDir + 'data-%s.npy' % t )\n",
    "    \n",
    "    spamScaler = StandardScaler()\n",
    "    rminScaler = StandardScaler()\n",
    "    \n",
    "    data[ :, key['model'] ] = spamScaler.fit_transform( data[:,key['model']] )\n",
    "    data[ :, key['min'] ]   = rminScaler.fit_transform( data[:,key['min']] )\n",
    "                                                             \n",
    "    np.save( normDir + 'data-%s' % t, data )\n",
    "    pkl.dump( spamScaler, open( normDir + 'scaler-spam-%s.pkl' % t, 'wb' ) )\n",
    "    pkl.dump( rminScaler, open( normDir + 'scaler-rmin-%s.pkl' % t, 'wb' ) )\n",
    "\n",
    "print(\"Done\")"
   ]
  },
  {
   "cell_type": "code",
   "execution_count": 9,
   "id": "caa00d79-5e2b-4d8d-b1c9-1e5eefde5cd1",
   "metadata": {
    "tags": []
   },
   "outputs": [
    {
     "name": "stdout",
     "output_type": "stream",
     "text": [
      "0 143 143\n",
      "1 437 294\n",
      "0 681 244\n",
      "1 996 315\n",
      "2 1206 210\n",
      "3 1378 172\n",
      "4 1605 227\n",
      "5 2629 1024\n",
      "6 2705 76\n",
      "7 2862 157\n",
      "8 2985 123\n",
      "9 3051 66\n",
      "10 3161 110\n",
      "11 3344 183\n",
      "12 3538 194\n",
      "13 5086 1548\n",
      "14 5513 427\n",
      "15 5811 298\n",
      "16 7060 1249\n",
      "DONE\n"
     ]
    }
   ],
   "source": [
    "rawDir  = 'data/raw/'\n",
    "normDir = 'data/norm-targets/'\n",
    "\n",
    "t = key['targets'][f]\n",
    "\n",
    "# Initiate All arrays\n",
    "dataList = []\n",
    "imgList  = []\n",
    "\n",
    "n = 0\n",
    "\n",
    "# Loop through each target\n",
    "for i,t in enumerate(testTargets):\n",
    "    \n",
    "    # t = dataKey['targets'][i]\n",
    "    rawData = np.load( rawDir + 'data-%s.npy' % t )\n",
    "    rawImg  = np.load( rawDir + 'img-%s.npy' % t )\n",
    "    \n",
    "    n += rawData.shape[0]\n",
    "    \n",
    "    dataList.append( rawData )\n",
    "    imgList.append( rawImg )\n",
    "\n",
    "    print( i, n, rawData.shape[0] )\n",
    "    \n",
    "# Loop through each target\n",
    "for i,t in enumerate( trainTargets ):\n",
    "    \n",
    "    # t = dataKey['targets'][i]\n",
    "    rawData = np.load( rawDir + 'data-%s.npy' % t )\n",
    "    rawImg  = np.load( rawDir + 'img-%s.npy' % t )\n",
    "    \n",
    "    n += rawData.shape[0]\n",
    "    \n",
    "    dataList.append( rawData )\n",
    "    imgList.append( rawImg )\n",
    "\n",
    "    print( i, n, rawData.shape[0] )\n",
    "    \n",
    "print(\"DONE\")"
   ]
  },
  {
   "cell_type": "code",
   "execution_count": 10,
   "id": "d66939f1-92a2-40e9-b7ba-534920f532e6",
   "metadata": {},
   "outputs": [
    {
     "name": "stdout",
     "output_type": "stream",
     "text": [
      "7060\n"
     ]
    }
   ],
   "source": [
    "print( n )"
   ]
  },
  {
   "cell_type": "code",
   "execution_count": 11,
   "id": "d13850de-f667-4d5c-b7d7-3e3b8b61e357",
   "metadata": {},
   "outputs": [
    {
     "name": "stdout",
     "output_type": "stream",
     "text": [
      "(7060, 25) (7060, 128, 128, 3)\n"
     ]
    },
    {
     "data": {
      "text/plain": [
       "[<matplotlib.lines.Line2D at 0x7f31b208e3e0>]"
      ]
     },
     "execution_count": 11,
     "metadata": {},
     "output_type": "execute_result"
    },
    {
     "data": {
      "image/png": "[encoded data removed]",
      "text/plain": [
       "<Figure size 432x288 with 1 Axes>"
      ]
     },
     "metadata": {
      "needs_background": "light"
     },
     "output_type": "display_data"
    }
   ],
   "source": [
    "allRawImg  = np.zeros(( n, 128, 128, 3 ))\n",
    "allRawData = np.zeros(( n, dataList[0][0].shape[0] ))\n",
    "\n",
    "print( allRawData.shape, allRawImg.shape )\n",
    "\n",
    "nTargets = len( imgList )\n",
    "\n",
    "j = 0\n",
    "for i in range( nTargets ):\n",
    "    k = imgList[i].shape[0]\n",
    "    \n",
    "    allRawImg[ j:j+k ] = imgList[i]\n",
    "    allRawData[ j:j+k ] = dataList[i]\n",
    "    j += k\n",
    "    #print( k )\n",
    "\n",
    "plt.plot( allRawData[:,0] )"
   ]
  },
  {
   "cell_type": "code",
   "execution_count": 14,
   "id": "be8151b8-194b-4ef4-904b-c83983e4e8ce",
   "metadata": {},
   "outputs": [
    {
     "name": "stdout",
     "output_type": "stream",
     "text": [
      "done\n"
     ]
    }
   ],
   "source": [
    "# Create scalers of spam and rmin\n",
    "d1_spam_scaler = StandardScaler()\n",
    "d1_rmin_scaler = StandardScaler()\n",
    "\n",
    "spamScaled = d1_spam_scaler.fit_transform( allRawData[:, key['model'] ] )\n",
    "pkl.dump( spamScaled, open( 'data/scaler-spam.pkl', 'wb' ) )\n",
    "\n",
    "rminScaled = d1_spam_scaler.fit_transform( allRawData[:, key['min'] ] )\n",
    "pkl.dump( rminScaled, open( 'data/scaler-rmin.pkl', 'wb' ) )\n",
    "\n",
    "allNormData = allRawData\n",
    "allNormData[:,key['model']] = spamScaled\n",
    "allNormData[:,key['min']]   = rminScaled\n",
    "\n",
    "normLoc = 'data/data-all'\n",
    "np.save( normLoc, allNormData ) \n",
    "\n",
    "imgLoc = 'data/img-all'\n",
    "np.save( imgLoc, allRawImg )\n",
    "\n",
    "print(\"done\")\n"
   ]
  },
  {
   "cell_type": "code",
   "execution_count": null,
   "id": "4ef2c5c5-5620-448e-9206-0cd53fe56de9",
   "metadata": {},
   "outputs": [],
   "source": [
    "allData = np.load('data/data-all.npy')\n",
    "allImage = np.load( 'data/images-all.npy' )\n",
    "print( allImage.shape )"
   ]
  },
  {
   "cell_type": "code",
   "execution_count": 31,
   "id": "4608a4e5-2b3a-4e11-a9f1-801364835f50",
   "metadata": {
    "tags": []
   },
   "outputs": [
    {
     "name": "stdout",
     "output_type": "stream",
     "text": [
      "5 587727178988388373\n",
      "21 587739407868690486\n"
     ]
    }
   ],
   "source": [
    "\n",
    "vTestTargets = []\n",
    "\n",
    "for k in key['targets']:\n",
    "    t = key['targets'][k]\n",
    "    if t in testTargets:\n",
    "        vTestTargets.append( k )\n",
    "        print( k, t )\n",
    "\n",
    "# Creat mask of\n",
    "\n",
    "mTargets = np.full(n, False)\n",
    "\n",
    "for tid in vTestTargets:\n",
    "    \n",
    "    m = allNormData[:, key['tid']] ==  float( tid )\n",
    "    \n",
    "    mTargets = np.logical_or( mTargets, m )\n",
    "    "
   ]
  },
  {
   "cell_type": "code",
   "execution_count": 33,
   "id": "d32c51a3-04eb-484b-9573-23d97a395bd8",
   "metadata": {},
   "outputs": [
    {
     "name": "stdout",
     "output_type": "stream",
     "text": [
      "(1412, 25) (1412, 128, 128, 3)\n",
      "(5648, 25) (5648, 25)\n",
      "Ratio:  0.2\n"
     ]
    }
   ],
   "source": [
    "ith = 5\n",
    "\n",
    "# Grab every ith for training/testing\n",
    "mith = np.full(n, False)\n",
    "mith[::ith] = True\n",
    "\n",
    "# Create combined mask\n",
    "#testMask = np.logical_or( mTargets, mith )\n",
    "testMask = mith\n",
    "\n",
    "testImg  = allRawImg[testMask]\n",
    "testData = allNormData[testMask]\n",
    "\n",
    "trainImg  = allRawImg[~testMask]\n",
    "trainData = allNormData[~testMask]\n",
    "\n",
    "print( testData.shape, testImg.shape )\n",
    "print( trainData.shape, trainData.shape )\n",
    "print( 'Ratio: ', testData.shape[0] / ( testData.shape[0] + trainData.shape[0] ) )"
   ]
  },
  {
   "cell_type": "code",
   "execution_count": null,
   "id": "8de7cbdc-314f-4e7c-83b7-83d614271642",
   "metadata": {},
   "outputs": [],
   "source": [
    "\n",
    "np.save( 'data/test-data', testData )\n",
    "np.save( 'data/test-img', testImg )\n",
    "np.save( 'data/train-data', trainData )\n",
    "np.save( 'data/train-img', trainImg )\n"
   ]
  },
  {
   "cell_type": "code",
   "execution_count": 5,
   "id": "107da572-04ed-4c57-aa9a-f640fbf26ef5",
   "metadata": {},
   "outputs": [
    {
     "name": "stdout",
     "output_type": "stream",
     "text": [
      "trainData:  (5648, 25)\n",
      "trainImg:  (5648, 128, 128, 3)\n"
     ]
    }
   ],
   "source": [
    "trainData = np.load('data/train-data.npy')\n",
    "print('trainData: ', trainData.shape )\n",
    "trainImg  = np.load('data/train-img.npy')\n",
    "print('trainImg: ', trainImg.shape )"
   ]
  },
  {
   "cell_type": "code",
   "execution_count": 6,
   "id": "a46ade36-4f10-4b42-998a-1f93de5a17d4",
   "metadata": {},
   "outputs": [],
   "source": [
    "\n",
    "# Shuffle training data\n",
    "p = np.random.permutation( trainData.shape[0] )\n",
    "trainData = trainData[p]\n",
    "trainImg = trainImg[p]\n",
    "\n",
    "np.save( 'data/train-data', trainData )\n",
    "np.save( 'data/train-img', trainImg )\n"
   ]
  },
  {
   "cell_type": "code",
   "execution_count": 8,
   "id": "2b618651-3f7d-4fb8-937c-097d60c02575",
   "metadata": {},
   "outputs": [
    {
     "name": "stdout",
     "output_type": "stream",
     "text": [
      "DONE\n"
     ]
    }
   ],
   "source": [
    "print(\"DONE\")"
   ]
  },
  {
   "cell_type": "code",
   "execution_count": null,
   "id": "be0d5c9e-feea-4cd8-babd-4f06dab08c57",
   "metadata": {},
   "outputs": [],
   "source": []
  }
 ],
 "metadata": {
  "kernelspec": {
   "display_name": "Python 3 (ipykernel)",
   "language": "python",
   "name": "python3"
  },
  "language_info": {
   "codemirror_mode": {
    "name": "ipython",
    "version": 3
   },
   "file_extension": ".py",
   "mimetype": "text/x-python",
   "name": "python",
   "nbconvert_exporter": "python",
   "pygments_lexer": "ipython3",
   "version": "3.10.5"
  }
 },
 "nbformat": 4,
 "nbformat_minor": 5
}
