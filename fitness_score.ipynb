{
 "cells": [
  {
   "cell_type": "markdown",
   "id": "7f4c900c-d6ae-4081-880e-fdc9715a11ca",
   "metadata": {},
   "source": [
    "# Creating a Fitness Function\n",
    "\n",
    "## Import Modules"
   ]
  },
  {
   "cell_type": "code",
   "execution_count": 1,
   "id": "e03f068d-45f2-4a68-bce4-2edc564259fe",
   "metadata": {},
   "outputs": [
    {
     "name": "stdout",
     "output_type": "stream",
     "text": [
      "Modules: Imported\n"
     ]
    }
   ],
   "source": [
    "# Import Python Mobules\n",
    "import os, json, time, argparse\n",
    "import numpy as np\n",
    "from sys import argv\n",
    "import tensorflow as tf\n",
    "import tensorflow.keras as keras\n",
    "\n",
    "# Reduce warnings\n",
    "os.environ['TF_CPP_MIN_LOG_LEVEL'] = '2'\n",
    "\n",
    "# Basic information 1\n",
    "print(\"Modules: Imported\")"
   ]
  },
  {
   "cell_type": "markdown",
   "id": "3094ac1d-3d4d-4647-991f-ae179f2aff5f",
   "metadata": {},
   "source": [
    "## Define Command Line Arguments"
   ]
  },
  {
   "cell_type": "code",
   "execution_count": 3,
   "id": "926e6482-eb54-4425-aab2-90add1cdd29f",
   "metadata": {},
   "outputs": [
    {
     "name": "stdout",
     "output_type": "stream",
     "text": [
      "Args: Defined\n"
     ]
    }
   ],
   "source": [
    "# Command line arguments\n",
    "\n",
    "buildEnv = False\n",
    "\n",
    "parser = argparse.ArgumentParser()\n",
    "parser.add_argument( '-runName', )\n",
    "parser.add_argument( '-modelLoc', )\n",
    "parser.add_argument( \"-tid\",      default = '587722984435351614',  type=str )\n",
    "parser.add_argument( \"-start\",    default = 0,  type=int, )\n",
    "parser.add_argument( \"-stop\",     default = 3,  type=int, )\n",
    "parser.add_argument( \"-verbose\",  default = 1,  type=int, )\n",
    "parser.add_argument( \"-num_epochs\",    default=2,       type=int )\n",
    "parser.add_argument( \"-learning_rate\", default=0.0001,  type=float )\n",
    "parser.add_argument( \"-batch_size\",    default=16,      type=int )\n",
    "parser.add_argument( \"-save_model\",    default='False', type=str )\n",
    "parser.add_argument( \"-data_gen\",      default='True',  type=str )\n",
    "\n",
    "# Core Model types\n",
    "parser.add_argument( \"-model\",   default = 'efficientNetB0', type=str)\n",
    "parser.add_argument( \"-pool\",    default = 'None',           type=str )\n",
    "parser.add_argument( \"-weights\", default = 'imagenet',       type=str )\n",
    "\n",
    "# Final layers\n",
    "parser.add_argument( \"-f_depth\", default = 8,  type=int )\n",
    "parser.add_argument( \"-f_width\", default = 32, type=int )\n",
    "parser.add_argument( \"-f_activation\", default = 'relu', type=str )\n",
    "parser.add_argument( \"-output_activation\", default = 'sigmoid' )\n",
    "\n",
    "print(\"Args: Defined\")"
   ]
  },
  {
   "cell_type": "markdown",
   "id": "2de7caa4-5824-4708-a8d6-8c90f06f28af",
   "metadata": {},
   "source": [
    "## Establish if Building Environment or Script\n",
    "Notice if code can see it's in a Jupyter Notebook Environment, it can create an artificial string of command line arguments.  This is convenient for testing the code in a Jupyter Notebook directly and changing variables on the fly.  Then when the Notebook is compiled as a python script, all changes can be stored."
   ]
  },
  {
   "cell_type": "code",
   "execution_count": 36,
   "id": "bca70a14-2865-4c72-888e-41dd5cdc5291",
   "metadata": {},
   "outputs": [
    {
     "name": "stdout",
     "output_type": "stream",
     "text": [
      "In Build\n",
      "Args: Read\n",
      "Namespace(runName='target-demo', modelLoc=None, tid='587722984435351614', start=1, stop=20, verbose=1, num_epochs=20, learning_rate=0.0001, batch_size=16, save_model=False, data_gen=True, model='efficientNetB0', pool='None', weights='imagenet', f_depth=3, f_width=32, f_activation='relu', output_activation='sigmoid')\n"
     ]
    }
   ],
   "source": [
    "\n",
    "# Am I in a jupyter notebook?\n",
    "try:\n",
    "    get_ipython().__class__.__name__\n",
    "    buildEnv = True\n",
    "    print(\"In Build\")\n",
    "    \n",
    "    # Build Command Line Arguments\n",
    "    cmdStr = ''\n",
    "    cmdStr += ' -runName target-demo'\n",
    "    cmdStr += ' -start 1'\n",
    "    cmdStr += ' -stop 20'\n",
    "    cmdStr += ' -num_epochs 20'\n",
    "    cmdStr += ' -learning_rate 0.0001'\n",
    "    cmdStr += ' -pool None'\n",
    "    cmdStr += ' -verbose 1'\n",
    "    cmdStr += ' -save_model False'\n",
    "    cmdStr += ' -f_depth 3'\n",
    "    cmdStr += ' -f_width 32'\n",
    "    cmdStr += ' -f_activation relu'\n",
    "    cmdStr += ' -output_activation sigmoid'\n",
    "    cmdStr += ' -model efficientNetB0'\n",
    "    cmdStr += ' -data_gen True'\n",
    "    \n",
    "    # Read string as if command line\n",
    "    args = parser.parse_args(cmdStr.split())\n",
    "\n",
    "\n",
    "# Or am I in a python script?\n",
    "except:\n",
    "    \n",
    "    # Read CMD arguments\n",
    "    args = parser.parse_args()\n",
    "    \n",
    "    # Check for valid runName\n",
    "    print( 'runName: ', args.runName )\n",
    "    if args.runName == None:\n",
    "        print(\"WARNING:  runName required\")\n",
    "        exit()\n",
    "\n",
    "# Preprocess some cmd args\n",
    "if args.save_model == 'True': args.save_model = True \n",
    "else:  args.save_model = False\n",
    "\n",
    "if args.data_gen == 'True': args.data_gen = True \n",
    "else:  args.data_gen = False\n",
    "\n",
    "\n",
    "print(\"Args: Read\")\n",
    "print( args )"
   ]
  },
  {
   "cell_type": "markdown",
   "id": "fcef34e1-81d8-4725-89ca-90ae59168496",
   "metadata": {},
   "source": [
    "## Define Device Strategy for Tensor Flow"
   ]
  },
  {
   "cell_type": "code",
   "execution_count": 37,
   "id": "6134c9cc-fe0f-4a7e-bd6c-e42e73dbcbb2",
   "metadata": {},
   "outputs": [
    {
     "name": "stdout",
     "output_type": "stream",
     "text": [
      "Devices: [PhysicalDevice(name='/physical_device:CPU:0', device_type='CPU')]\n"
     ]
    }
   ],
   "source": [
    "\n",
    "# Read current devices\n",
    "devices = tf.config.get_visible_devices()\n",
    "\n",
    "# If no GPU found, use CPU\n",
    "if len(devices) == 1:\n",
    "    strategy = tf.distribute.OneDeviceStrategy('CPU') # Use local GPU\n",
    "\n",
    "# if buildEnv, probably on hamilton. Use GPU 2\n",
    "elif buildEnv:\n",
    "    print(\"Using 2nd GPU\")\n",
    "    tf.config.set_visible_devices(devices[0:1]+devices[2:3])\n",
    "    tf.config.experimental.set_memory_growth(devices[1],True)\n",
    "    strategy = tf.distribute.OneDeviceStrategy('GPU:1') # Use local GPU\n",
    "\n",
    "# Standard single GPU on backus\n",
    "else:\n",
    "    tf.config.experimental.set_memory_growth(devices[1],True)\n",
    "    strategy = tf.distribute.OneDeviceStrategy('GPU:1') # Use local GPU\n",
    "\n",
    "print( 'Devices:', devices )\n"
   ]
  },
  {
   "cell_type": "markdown",
   "id": "3de0e070-9e4b-4712-b207-f6d5098623e8",
   "metadata": {},
   "source": [
    "## Define Useful Functions"
   ]
  },
  {
   "cell_type": "code",
   "execution_count": 38,
   "id": "23cd6530-1c67-4072-a7f5-c3f92e82ee48",
   "metadata": {},
   "outputs": [
    {
     "name": "stdout",
     "output_type": "stream",
     "text": [
      "Reading Data for: 587722984435351614\n",
      "data:  (315, 25)\n",
      "img:   (315, 128, 128, 3) 0.0 255.0\n",
      "test:   (63, 25)\n",
      "train:  (252, 25)\n",
      "testScore: (63, 1) 0.02857142857142857 0.9459459459459459\n",
      "trainScore: (252, 1)\n"
     ]
    }
   ],
   "source": [
    "def sliceKey( dictIn ):\n",
    "    dictOut =  dictIn\n",
    "    for k in dictOut:\n",
    "        if type( dictOut[k] ) == type( 'string' ):\n",
    "            if 'slice' in dictOut[k]:\n",
    "                #print( k, dictOut[k] )\n",
    "                tmp = dictOut[k].split('(')[1].split(')')[0].split(',')\n",
    "                s = int( tmp[0] )\n",
    "                e = int( tmp[1] )\n",
    "                dictOut[k] = slice( s, e )\n",
    "                #print( dictOut[k] )\n",
    "    \n",
    "    return dictOut \n",
    "\n",
    "def correlation(y_true, y_pred):\n",
    "    y = y_pred.numpy()\n",
    "    corr = np.corrcoef( y_true[:,0], y[:,0] )[0,1]\n",
    "    return corr\n",
    "\n",
    "def loadData( args ):\n",
    "    \n",
    "    # Prepare data\n",
    "    with open( 'data/data-key.json' ) as keyFile:\n",
    "        key = json.load( keyFile )\n",
    "    \n",
    "    print(\"Reading Data for: %s\" % args.tid )\n",
    "        \n",
    "    data = np.load('data/data-%s.npy' % args.tid)\n",
    "    img = np.load( 'data/img-%s.npy' % args.tid )\n",
    "    \n",
    "    # Rescale image values based on core model being used.\n",
    "    if 'efficientNet' in args.model :\n",
    "        img *= 255\n",
    "\n",
    "    if buildEnv:\n",
    "        print( 'data: ', data.shape )\n",
    "        print( 'img:  ', img.shape, np.amin(img), np.amax(img) )\n",
    "    \n",
    "    # Reserve every 5th for training\n",
    "    n = data.shape[0]\n",
    "    m = np.full( n, False )\n",
    "    m[::5] = True\n",
    "    \n",
    "    # Seperate training from testing\n",
    "    testData = data[m] \n",
    "    testImg  = img[m]\n",
    "    \n",
    "    trainData = data[~m]\n",
    "    trainImg = img[~m]\n",
    "    \n",
    "    # Shuffle training data\n",
    "    \n",
    "    p = np.random.permutation( trainData.shape[0] )\n",
    "    trainData = trainData[p]\n",
    "    trainImg = trainImg[p]\n",
    "    \n",
    "    if buildEnv:\n",
    "        print( \"test:  \", testData.shape )\n",
    "        print( \"train: \", trainData.shape )\n",
    "    \n",
    "    # Only grab scores for prediction    \n",
    "    trainScore = trainData[:,key['score']]\n",
    "    testScore  =  testData[:,key['score']]\n",
    "    \n",
    "    # Reshape scores\n",
    "    testScore  = np.reshape( testScore,  (  testScore.shape[0], 1 ) )\n",
    "    trainScore = np.reshape( trainScore, ( trainScore.shape[0], 1 ) )\n",
    "    \n",
    "    # print scores shape\n",
    "    \n",
    "    if buildEnv:\n",
    "        print('testScore:', testScore.shape, np.amin( testScore ), np.amax(testScore) )\n",
    "        print(\"trainScore:\", trainScore.shape )\n",
    "    \n",
    "    # Set standardized name\n",
    "    \n",
    "    return trainImg, trainScore, testImg, testScore\n",
    "    \n",
    "with strategy.scope():\n",
    "    X, Y, Xval, Yval = loadData( args )"
   ]
  },
  {
   "cell_type": "markdown",
   "id": "888feae6-e8c9-4839-8c82-13633be4c5e4",
   "metadata": {},
   "source": [
    "## Build Model"
   ]
  },
  {
   "cell_type": "code",
   "execution_count": 58,
   "id": "1b70c601-ffe6-4238-bd92-34a5ccd7b8a6",
   "metadata": {},
   "outputs": [
    {
     "name": "stdout",
     "output_type": "stream",
     "text": [
      "Model: \"model_13\"\n",
      "_________________________________________________________________\n",
      " Layer (type)                Output Shape              Param #   \n",
      "=================================================================\n",
      " Input_Layer (InputLayer)    [(None, 128, 128, 3)]     0         \n",
      "                                                                 \n",
      " efficientnetb0 (Functional)  (None, 4, 4, 1280)       4049571   \n",
      "                                                                 \n",
      " Flatten_Layer (Flatten)     (None, 20480)             0         \n",
      "                                                                 \n",
      " relu_0 (Dense)              (None, 32)                655392    \n",
      "                                                                 \n",
      " relu_1 (Dense)              (None, 32)                1056      \n",
      "                                                                 \n",
      " relu_2 (Dense)              (None, 32)                1056      \n",
      "                                                                 \n",
      " Output_Sigmoid (Dense)      (None, 1)                 33        \n",
      "                                                                 \n",
      "=================================================================\n",
      "Total params: 4,707,108\n",
      "Trainable params: 4,665,085\n",
      "Non-trainable params: 42,023\n",
      "_________________________________________________________________\n"
     ]
    }
   ],
   "source": [
    "\n",
    "def buildModel( args, X, Y ):\n",
    "    \n",
    "    # Preprocess some input arguments\n",
    "    if args.pool == 'None': args.pool = None\n",
    "    if args.weights == 'None': args.weights = None\n",
    "    \n",
    "    # Build input layer\n",
    "    x = keras.layers.Input(shape=X.shape[1:], name='Input_Layer')\n",
    "    y = x    \n",
    "    \n",
    "    # What type of model\n",
    "    if 'efficientNet' in args.model:\n",
    "    \n",
    "        if   args.model == 'efficientNetB0':  core_model = tf.keras.applications.EfficientNetB0\n",
    "        elif args.model == 'efficientNetB1':  core_model = tf.keras.applications.EfficientNetB1\n",
    "        elif args.model == 'efficientNetB2':  core_model = tf.keras.applications.EfficientNetB2\n",
    "        elif args.model == 'efficientNetB3':  core_model = tf.keras.applications.EfficientNetB3\n",
    "        elif args.model == 'efficientNetB4':  core_model = tf.keras.applications.EfficientNetB4\n",
    "        elif args.model == 'efficientNetB5':  core_model = tf.keras.applications.EfficientNetB5\n",
    "        elif args.model == 'efficientNetB6':  core_model = tf.keras.applications.EfficientNetB6\n",
    "        elif args.model == 'efficientNetB7':  core_model = tf.keras.applications.EfficientNetB7\n",
    "            \n",
    "        core_model =  core_model(\n",
    "                include_top=False,\n",
    "                weights=args.weights,\n",
    "                input_shape=y.shape[1:],\n",
    "                pooling=args.pool,\n",
    "            )\n",
    "    \n",
    "    elif args.model == 'resnet':\n",
    "        # Build resnet layer without top layer\n",
    "        core_model = keras.applications.ResNet50V2(\n",
    "            include_top = False,\n",
    "            weights = args.weights,\n",
    "            input_shape = y.shape[1:], \n",
    "        )\n",
    "    else:\n",
    "        print(\"NO MODEL TYPE SELECTED\")\n",
    "        return None\n",
    "    \n",
    "    # Add core model\n",
    "    y = core_model(y)\n",
    "    \n",
    "    # Flatten for final layers\n",
    "    y = keras.layers.Flatten(name='Flatten_Layer')(y)\n",
    "        \n",
    "    for i in range( args.f_depth ):\n",
    "        \n",
    "        if args.f_activation == None:\n",
    "            y = keras.layers.Dense( args.f_width, activation= keras.activations.relu, name='relu_%d'%i )(y)\n",
    "            \n",
    "        if args.f_activation == 'relu':\n",
    "            y = keras.layers.Dense( args.f_width, activation= keras.activations.relu, name='relu_%d'%i )(y)\n",
    "            \n",
    "        if args.f_activation == 'tanh':\n",
    "            y = keras.layers.Dense( args.f_width, activation= keras.activations.tanh, name='tanh_%d'%i )(y)\n",
    "    \n",
    "    # Final layer.\n",
    "    if args.output_activation == None or args.output_activation == 'linear':\n",
    "        y = keras.layers.Dense( Y.shape[1], name='Output_Linear' )(y)\n",
    "        \n",
    "    elif args.output_activation == 'softmax':\n",
    "        y = keras.layers.Dense( Y.shape[1] , activation='softmax', name='Output_Softmax' )(y)\n",
    "        \n",
    "    elif args.output_activation == 'sigmoid':\n",
    "        y = keras.layers.Dense( Y.shape[1] , activation='sigmoid', name='Output_Sigmoid' )(y)\n",
    "\n",
    "\n",
    "    # Compile\n",
    "    model = keras.Model( x, y )\n",
    "    model.compile( \n",
    "        optimizer=keras.optimizers.Adam( learning_rate = args.learning_rate ),\n",
    "        loss=keras.losses.mean_squared_error,\n",
    "        )\n",
    "    \n",
    "    return model\n",
    "# end building model\n",
    "    \n",
    "with strategy.scope(): \n",
    "\n",
    "    # If not reading previous model, make fresh model\n",
    "    model = buildModel( args, X, Y )\n",
    "    model.summary(expand_nested=False)\n",
    "\n",
    "# keras.utils.plot_model(model,show_shapes=True,expand_nested=False)\n",
    "\n",
    "    "
   ]
  },
  {
   "cell_type": "markdown",
   "id": "538d5006-f7ee-4238-8555-991c52462321",
   "metadata": {},
   "source": [
    "## Prepare Data Generator and Initialize Results File"
   ]
  },
  {
   "cell_type": "code",
   "execution_count": 44,
   "id": "0c60d75a-782d-49fe-89ab-8da7fc28e4ef",
   "metadata": {
    "tags": []
   },
   "outputs": [
    {
     "name": "stdout",
     "output_type": "stream",
     "text": [
      "Starting Predictions:  [0.56641877 0.37720641 0.58614916 0.33442342]\n",
      "Using Data Generator:\n",
      "Ready to Train:\n",
      "runName: target-demo\n",
      "start: 1\n",
      "goal: 20\n"
     ]
    }
   ],
   "source": [
    "with strategy.scope(): \n",
    "        \n",
    "    # Quick prediction to test functionality\n",
    "    if buildEnv: \n",
    "        print(\"Starting Predictions: \", model.predict( X[:4] )[:,0])\n",
    "        \n",
    "    if args.data_gen: \n",
    "        print(\"Using Data Generator:\")\n",
    "        data_generator = keras.preprocessing.image.ImageDataGenerator(\n",
    "            rotation_range=180,\n",
    "            zoom_range=0.1,\n",
    "            horizontal_flip=True,\n",
    "        )\n",
    "    else: \n",
    "        print(\"Data As Is:\")\n",
    "        data_generator = keras.preprocessing.image.ImageDataGenerator()\n",
    "\n",
    "    dg_trainer = data_generator.flow( \n",
    "            X, Y, \n",
    "            batch_size = args.batch_size\n",
    "        )\n",
    "    \n",
    "    allLoss = []\n",
    "    valLoss = []\n",
    "    \n",
    "    print( 'Ready to Train:' )\n",
    "    print( 'runName: %s' % args.runName )\n",
    "    print( 'start: %d' % args.start )\n",
    "    print( 'goal: %d' % args.stop )\n",
    "\n",
    "    with open( 'results/%s.txt' % args.runName, 'a' ) as f: \n",
    "\n",
    "        print( 'runName: %s' % args.runName, file=f )\n",
    "        print( 'start: %d' % args.start, file=f )\n",
    "        print( 'goal: %d' % args.stop, file=f )"
   ]
  },
  {
   "cell_type": "markdown",
   "id": "addb7788-68a4-4463-8cd3-59a29749b115",
   "metadata": {},
   "source": [
    "## Train Model"
   ]
  },
  {
   "cell_type": "code",
   "execution_count": null,
   "id": "6d2935e3-e619-4814-81ff-6128b6ebb89f",
   "metadata": {
    "tags": []
   },
   "outputs": [],
   "source": [
    "with strategy.scope():\n",
    "      \n",
    "    # Initialize iter\n",
    "    i = args.start   \n",
    "    \n",
    "    while i < args.stop:\n",
    "\n",
    "        history = model.fit(\n",
    "           dg_trainer,\n",
    "#             X, Y,\n",
    "            validation_data = ( Xval, Yval ),\n",
    "            epochs     = args.num_epochs,\n",
    "            verbose    = args.verbose,\n",
    "        )\n",
    "        \n",
    "        # Save loss\n",
    "        allLoss = np.append( allLoss, history.history['loss'] )\n",
    "        valLoss = np.append( valLoss, history.history['val_loss'] )\n",
    "\n",
    "        i += args.num_epochs\n",
    "        timeid = int( time.time() )\n",
    "        \n",
    "        # Print Progress\n",
    "        print( 'Progress: %d - %d' % ( i, args.stop ) )\n",
    "        \n",
    "        if buildEnv:           \n",
    "            print( 'Progress: %d - %d' % ( i, timeid ), file=f )\n",
    "            print( \"Training accuracy:\",*[\"%.8f\"%(x) for x in history.history['loss']], file=f)    \n",
    "            print( \"Test accuracy:\",*[\"%.8f\"%(x) for x in history.history['val_loss']],file=f)\n",
    "\n",
    "        if args.save_model: \n",
    "            model.save( 'models/%s-%s-%s.h5' % (args.runName, str(timeid), str(i)), save_format='h5' )\n",
    "\n",
    "        with open( 'results/%s.txt' % args.runName, 'a' ) as f: \n",
    "\n",
    "            print( 'Progress: %d - %d' % ( i, timeid ), file=f )\n",
    "            print( \"Training accuracy:\",*[\"%.8f\"%(x) for x in history.history['loss']], file=f)    \n",
    "            print( \"Test accuracy:\",*[\"%.8f\"%(x) for x in history.history['val_loss']],file=f)\n"
   ]
  },
  {
   "cell_type": "markdown",
   "id": "bf9e6a40-241c-4dfd-8eb3-3c777404ac6b",
   "metadata": {},
   "source": [
    "## View Ongoing Loss and Predictions"
   ]
  },
  {
   "cell_type": "code",
   "execution_count": 57,
   "id": "bbaf0c5b-62d0-459b-81ee-8cd93444b901",
   "metadata": {},
   "outputs": [
    {
     "name": "stdout",
     "output_type": "stream",
     "text": [
      "dict_keys(['loss', 'val_loss'])\n"
     ]
    },
    {
     "data": {
      "image/png": "[encoded data removed]",
      "text/plain": [
       "<Figure size 432x288 with 1 Axes>"
      ]
     },
     "metadata": {
      "needs_background": "light"
     },
     "output_type": "display_data"
    }
   ],
   "source": [
    "if buildEnv: \n",
    "    import matplotlib.pyplot as plt\n",
    "    print( history.history.keys() )\n",
    "    plt.plot( allLoss )\n",
    "    plt.plot( valLoss )\n",
    "    plt.title(\"Loss Thus Far\")\n",
    "    plt.legend(['Training','Validation'])\n",
    "    plt.xlabel('Epoch')\n",
    "    plt.ylabel('MSE Loss')\n",
    "    #plt.ylim([0,1])\n",
    "    plt.show()\n"
   ]
  },
  {
   "cell_type": "code",
   "execution_count": 63,
   "id": "63cf4d87-25aa-4e7c-ac87-ed5aea23aec7",
   "metadata": {},
   "outputs": [
    {
     "name": "stdout",
     "output_type": "stream",
     "text": [
      "(252, 1) (63, 1)\n",
      "(63, 1) (252, 1)\n",
      "-0.32814499316842577 -0.31874057187103405\n"
     ]
    }
   ],
   "source": [
    "if buildEnv: \n",
    "    \n",
    "    pTestScores = model.predict( Xval )\n",
    "    pTrainScores = model.predict( X )\n",
    "\n",
    "    print( Y.shape, Yval.shape )\n",
    "    print( pTestScores.shape, pTrainScores.shape )\n",
    "\n",
    "    trainCorr = np.corrcoef(  Y[:,0], pTrainScores[:,0] )[0,1]\n",
    "    testCorr = np.corrcoef(  Yval[:,0], pTestScores[:,0] )[0,1]\n",
    "    print( trainCorr, testCorr )"
   ]
  },
  {
   "cell_type": "code",
   "execution_count": 64,
   "id": "bddd5e3b-4ddb-4bcf-aabe-f371f4219b00",
   "metadata": {},
   "outputs": [
    {
     "data": {
      "image/png": "[encoded data removed]",
      "text/plain": [
       "<Figure size 1200x1200 with 1 Axes>"
      ]
     },
     "metadata": {
      "needs_background": "light"
     },
     "output_type": "display_data"
    }
   ],
   "source": [
    "if buildEnv: \n",
    "\n",
    "    plt.figure(figsize=(4,4), dpi=300)\n",
    "    plt.scatter( Y[:,0], pTrainScores, label='Training data' ) \n",
    "    plt.scatter( Yval[:,0], pTestScores, label='Validation data' )\n",
    "    \n",
    "    plt.xlabel('Human Fitness Scores')\n",
    "    plt.ylabel('Predictons')\n",
    "    plt.title(\"%s\"% args.runName)\n",
    "    plt.xlim([0,1])\n",
    "    plt.ylim([0,1])\n",
    "    plt.legend()\n",
    "\n",
    "    plt.gca().set_aspect('equal')\n"
   ]
  },
  {
   "cell_type": "markdown",
   "id": "a0ed485d-3cdb-4cd2-ab36-fab28a6cdaf1",
   "metadata": {},
   "source": [
    "# Continue Training?"
   ]
  },
  {
   "cell_type": "code",
   "execution_count": 61,
   "id": "0fba8a83-5862-41b4-bf1c-6450e8903d74",
   "metadata": {},
   "outputs": [
    {
     "name": "stdout",
     "output_type": "stream",
     "text": [
      "LR Before: 0.000025\n",
      "LR After: %  6.25e-06\n",
      "Epoch 1/20\n",
      "16/16 [==============================] - 12s 454ms/step - loss: 0.0803 - val_loss: 0.0746\n",
      "Epoch 2/20\n",
      "16/16 [==============================] - 6s 403ms/step - loss: 0.0718 - val_loss: 0.0693\n",
      "Epoch 3/20\n",
      "16/16 [==============================] - 7s 408ms/step - loss: 0.0664 - val_loss: 0.0692\n",
      "Epoch 4/20\n",
      "16/16 [==============================] - 6s 402ms/step - loss: 0.0675 - val_loss: 0.0679\n",
      "Epoch 5/20\n",
      "16/16 [==============================] - 7s 427ms/step - loss: 0.0642 - val_loss: 0.0663\n",
      "Epoch 6/20\n",
      "16/16 [==============================] - 6s 401ms/step - loss: 0.0622 - val_loss: 0.0661\n",
      "Epoch 7/20\n",
      "16/16 [==============================] - 6s 401ms/step - loss: 0.0610 - val_loss: 0.0664\n",
      "Epoch 8/20\n",
      "16/16 [==============================] - 6s 401ms/step - loss: 0.0589 - val_loss: 0.0644\n",
      "Epoch 9/20\n",
      "16/16 [==============================] - 7s 403ms/step - loss: 0.0581 - val_loss: 0.0623\n",
      "Epoch 10/20\n",
      "16/16 [==============================] - 6s 401ms/step - loss: 0.0573 - val_loss: 0.0616\n",
      "Epoch 11/20\n",
      "16/16 [==============================] - 6s 409ms/step - loss: 0.0586 - val_loss: 0.0621\n",
      "Epoch 12/20\n",
      "16/16 [==============================] - 6s 404ms/step - loss: 0.0596 - val_loss: 0.0640\n",
      "Epoch 13/20\n",
      "16/16 [==============================] - 6s 402ms/step - loss: 0.0534 - val_loss: 0.0669\n",
      "Epoch 14/20\n",
      "16/16 [==============================] - 6s 402ms/step - loss: 0.0558 - val_loss: 0.0676\n",
      "Epoch 15/20\n",
      "16/16 [==============================] - 6s 402ms/step - loss: 0.0532 - val_loss: 0.0706\n",
      "Epoch 16/20\n",
      "16/16 [==============================] - 6s 404ms/step - loss: 0.0522 - val_loss: 0.0771\n",
      "Epoch 17/20\n",
      "16/16 [==============================] - 6s 404ms/step - loss: 0.0523 - val_loss: 0.0810\n",
      "Epoch 18/20\n",
      "16/16 [==============================] - 7s 405ms/step - loss: 0.0549 - val_loss: 0.0806\n",
      "Epoch 19/20\n",
      "16/16 [==============================] - 6s 410ms/step - loss: 0.0523 - val_loss: 0.0791\n",
      "Epoch 20/20\n",
      "16/16 [==============================] - 7s 405ms/step - loss: 0.0492 - val_loss: 0.0752\n"
     ]
    }
   ],
   "source": [
    "with strategy.scope():\n",
    "    \n",
    "    if buildEnv: \n",
    "    \n",
    "        scale = 0.25\n",
    "        print( 'LR Before: %f' % args.learning_rate )\n",
    "        args.learning_rate *= scale\n",
    "        print( \"LR After: % \", args.learning_rate )\n",
    "        keras.backend.set_value( \n",
    "            model.optimizer.learning_rate, \n",
    "            float( args.learning_rate ) \n",
    "        )\n",
    "\n",
    "        history = model.fit(\n",
    "           dg_trainer,\n",
    "            validation_data = ( Xval, Yval ),\n",
    "            epochs     = args.num_epochs,\n",
    "            verbose    = args.verbose,\n",
    "        )\n",
    "\n",
    "        # Save loss\n",
    "        allLoss = np.append( allLoss, history.history['loss'] )\n",
    "        valLoss = np.append( valLoss, history.history['val_loss'] ) \n",
    "\n",
    "        if args.save_model: \n",
    "            model.save( 'models/%s-%s-%s.h5' % (args.runName, str(timeid), str(i)), save_format='h5' )\n",
    "\n",
    "        with open( 'results/%s.txt' % args.runName, 'a' ) as f: \n",
    "\n",
    "            print( 'Progress: %d - %d' % ( i, timeid ), file=f )\n",
    "            print( \"Validation accuracy:\",*[\"%.8f\"%(x) for x in history.history['loss']], file=f)    \n",
    "            print( \"Test accuracy:\",*[\"%.8f\"%(x) for x in history.history['val_loss']],file=f)\n"
   ]
  },
  {
   "cell_type": "markdown",
   "id": "9476d2fd-3e69-497c-820a-a1ddff26efc7",
   "metadata": {},
   "source": [
    "# Save Model?"
   ]
  },
  {
   "cell_type": "code",
   "execution_count": 60,
   "id": "3d0100ab-c680-4c01-8027-1179465aea25",
   "metadata": {},
   "outputs": [
    {
     "name": "stdout",
     "output_type": "stream",
     "text": [
      "Model and Results Saved\n"
     ]
    }
   ],
   "source": [
    "   \n",
    "if buildEnv: \n",
    "    model.save( 'models/blah-blah.h5' , save_format='h5' )\n",
    "\n",
    "    with open( 'results/%s.txt' % args.runName , 'w' ) as f: \n",
    "\n",
    "        print( 'Progress: %d - %d' % ( i, timeid ), file=f )\n",
    "        print( \"Validation accuracy:\",*[\"%.8f\"%(x) for x in allLoss], file=f)    \n",
    "        print( \"Test accuracy:\",*[\"%.8f\"%(x) for x in valLoss],file=f)\n",
    "\n",
    "        \n",
    "print(\"Model and Results Saved\")"
   ]
  },
  {
   "cell_type": "markdown",
   "id": "e14f3751-8b90-4fa3-bb5c-c1af30269b87",
   "metadata": {},
   "source": [
    "## Keras Tuner?"
   ]
  },
  {
   "cell_type": "code",
   "execution_count": null,
   "id": "80e77062-dc16-401f-9933-cbe4f0ccac1a",
   "metadata": {},
   "outputs": [
    {
     "name": "stdout",
     "output_type": "stream",
     "text": [
      "Trial 17 Complete [00h 00m 32s]\n",
      "val_loss: 0.2842969596385956\n",
      "\n",
      "Best val_loss So Far: 0.05847816541790962\n",
      "Total elapsed time: 00h 08m 08s\n",
      "\n",
      "Search: Running Trial #18\n",
      "\n",
      "Value             |Best Value So Far |Hyperparameter\n",
      "3.8227e-06        |0.0013649         |lr\n",
      "avg               |None              |pool\n",
      "1                 |2                 |f_depth\n",
      "32                |24                |f_width\n",
      "relu              |tanh              |f_activation\n",
      "softmax           |sigmoid           |output_activation\n",
      "efficientNetB0    |efficientNetB1    |model\n",
      "2                 |2                 |tuner/epochs\n",
      "0                 |0                 |tuner/initial_epoch\n",
      "6                 |6                 |tuner/bracket\n",
      "0                 |0                 |tuner/round\n",
      "\n",
      "Parsing Args\n",
      "Model:  <keras.engine.functional.Functional object at 0x7f4912764700>\n",
      "Epoch 1/2\n"
     ]
    }
   ],
   "source": [
    "def build( hp ):\n",
    "    \n",
    "    cmdStr = ''\n",
    "    cmdStr += ' -runName demo-tuner'\n",
    "    cmdStr += ' -start 1'\n",
    "    cmdStr += ' -stop 20'\n",
    "    cmdStr += ' -num_epochs 20'\n",
    "    \n",
    "    cmdStr += ' -learning_rate %f' % hp.Float(\"lr\", default=0.0001, min_value=1e-6, max_value=.01, sampling=\"log\")\n",
    "    cmdStr += ' -pool %s'          % hp.Choice(\"pool\", [ 'None', 'avg', 'max' ], default=None,  )\n",
    "    cmdStr += ' -f_depth %d'       % hp.Int( 'f_depth', default=3, min_value=1, max_value=8, step=1 )\n",
    "    cmdStr += ' -f_width %d'       % hp.Int( 'f_width', default=32, min_value=8, max_value=64, step=8 )\n",
    "    cmdStr += ' -f_activation %s'  % hp.Choice( 'f_activation', default='tanh', values=[ 'tanh', 'relu' ] )\n",
    "    cmdStr += ' -output_activation %s' % hp.Choice( 'output_activation', default='linear', \\\n",
    "                                                   values=[ 'linear', 'sigmoid', 'softmax' ] )\n",
    "    cmdStr += ' -model %s'         % hp.Choice( 'model', default='efficientNetB0', \\\n",
    "                                       values=[ 'efficientNetB0', 'efficientNetB1'] )\n",
    "\n",
    "    \n",
    "    print(\"Parsing Args\")\n",
    "    args = parser.parse_args(cmdStr.split())\n",
    "\n",
    "    model = buildModel( args, X, Y )\n",
    "    print('Model: ', model )\n",
    "    \n",
    "    return model\n",
    "    \n",
    "if buildEnv:\n",
    "    import keras_tuner as kt\n",
    "\n",
    "    with strategy.scope():\n",
    "\n",
    "        hp = kt.HyperParameters()\n",
    "\n",
    "        # Build Data Generator\n",
    "        data_generator = keras.preprocessing.image.ImageDataGenerator(\n",
    "            rotation_range=180,\n",
    "            zoom_range=0.1,\n",
    "            horizontal_flip=True,\n",
    "        )\n",
    "\n",
    "        dg_trainer = data_generator.flow( \n",
    "            X, Y, \n",
    "            batch_size = args.batch_size\n",
    "        )\n",
    "\n",
    "        print(\"Something: \")\n",
    "        tuner = kt.Hyperband(\n",
    "             build,\n",
    "             objective=kt.Objective(\"val_loss\", direction=\"min\"),\n",
    "             max_epochs=1000,\n",
    "             factor=3,\n",
    "             hyperband_iterations=3,\n",
    "             directory='tuner',)\n",
    "\n",
    "        print(\"Searching: \", )\n",
    "        tuner.search( dg_trainer, epochs=1000, validation_data=(Xval, Yval))\n"
   ]
  },
  {
   "cell_type": "code",
   "execution_count": null,
   "id": "e97c1db9-ef84-4b8a-bad4-ecf2c51349ed",
   "metadata": {},
   "outputs": [],
   "source": []
  }
 ],
 "metadata": {
  "kernelspec": {
   "display_name": "Python 3 (ipykernel)",
   "language": "python",
   "name": "python3"
  },
  "language_info": {
   "codemirror_mode": {
    "name": "ipython",
    "version": 3
   },
   "file_extension": ".py",
   "mimetype": "text/x-python",
   "name": "python",
   "nbconvert_exporter": "python",
   "pygments_lexer": "ipython3",
   "version": "3.10.5"
  }
 },
 "nbformat": 4,
 "nbformat_minor": 5
}
